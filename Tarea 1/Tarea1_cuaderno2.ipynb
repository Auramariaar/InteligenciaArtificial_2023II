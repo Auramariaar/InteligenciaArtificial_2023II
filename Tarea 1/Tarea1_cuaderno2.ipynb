{
  "nbformat": 4,
  "nbformat_minor": 0,
  "metadata": {
    "colab": {
      "provenance": [],
      "authorship_tag": "ABX9TyPJFCbDI7j9mpLzHG6fHu1f",
      "include_colab_link": true
    },
    "kernelspec": {
      "name": "python3",
      "display_name": "Python 3"
    },
    "language_info": {
      "name": "python"
    }
  },
  "cells": [
    {
      "cell_type": "markdown",
      "metadata": {
        "id": "view-in-github",
        "colab_type": "text"
      },
      "source": [
        "<a href=\"https://colab.research.google.com/github/Auramariaar/Tarea1_IA/blob/main/Tarea1_cuaderno2.ipynb\" target=\"_parent\"><img src=\"https://colab.research.google.com/assets/colab-badge.svg\" alt=\"Open In Colab\"/></a>"
      ]
    },
    {
      "cell_type": "markdown",
      "source": [
        "# Tarea 1"
      ],
      "metadata": {
        "id": "GP2t3sNwfm5Z"
      }
    },
    {
      "cell_type": "markdown",
      "source": [
        "#### 3. Escriba una clase con las siguientes funcionalidades:\n",
        "\n",
        "3.1 Al instanciar un objeto, lee un conjunto de datos numéricos. Por ejemplo puede usar el mismo conjunto de datos iris.csv. Instancie los datos en un dataframe de Pandas.\n",
        "\n",
        "3.2 Implemente un método que calcule las estadísticas descriptivas básicas de cada una de las variables \\(sepal.length, sepal.width, petal.lenght, etc\\).\n",
        "\n",
        "3.3 Implemente un método que entregue los nombre de las variables disponibles.\n",
        "\n",
        "3.4 Implemente un método que reciba el nombre de una variable disponible dentro del objeto \\(en el dataframe\\) y regrese: sus estadísticas básicas: media, mediana, desviación, percentiles, q25, q50, q75 y dibuje un histograma de la variable."
      ],
      "metadata": {
        "id": "O6jSmaHkcLEb"
      }
    },
    {
      "cell_type": "code",
      "source": [
        "import seaborn as sns\n",
        "\n",
        "# Cargar el conjunto de datos iris\n",
        "iris_data = sns.load_dataset(\"iris\")\n",
        "\n",
        "# Mostrar las primeras filas del conjunto de datos\n",
        "print(iris_data.head())"
      ],
      "metadata": {
        "colab": {
          "base_uri": "https://localhost:8080/"
        },
        "id": "pKu1yxsfd6lw",
        "outputId": "854a14c0-2117-4815-ca89-49bc1b7cde1d"
      },
      "execution_count": 10,
      "outputs": [
        {
          "output_type": "stream",
          "name": "stdout",
          "text": [
            "   sepal_length  sepal_width  petal_length  petal_width species\n",
            "0           5.1          3.5           1.4          0.2  setosa\n",
            "1           4.9          3.0           1.4          0.2  setosa\n",
            "2           4.7          3.2           1.3          0.2  setosa\n",
            "3           4.6          3.1           1.5          0.2  setosa\n",
            "4           5.0          3.6           1.4          0.2  setosa\n"
          ]
        }
      ]
    },
    {
      "cell_type": "code",
      "source": [
        "import seaborn as sns\n",
        "import pandas as pd\n",
        "import matplotlib.pyplot as plt\n",
        "\n",
        "# Cargar el conjunto de datos iris usando Seaborn\n",
        "iris_data = sns.load_dataset(\"iris\")\n",
        "\n",
        "class DataAnalyzer:\n",
        "    def calculate_basic_stats(self, variable_name):\n",
        "        if variable_name in iris_data.columns:\n",
        "            variable_data = iris_data[variable_name]\n",
        "            mean = variable_data.mean()\n",
        "            median = variable_data.median()\n",
        "            std = variable_data.std()\n",
        "            q25 = variable_data.quantile(0.25)\n",
        "            q50 = median\n",
        "            q75 = variable_data.quantile(0.75)\n",
        "\n",
        "            # Dibujar un histograma\n",
        "            plt.hist(variable_data, bins='auto', alpha=0.7, color='b', edgecolor='black')\n",
        "            plt.title(f'Histograma de {variable_name}')\n",
        "            plt.xlabel(variable_name)\n",
        "            plt.ylabel('Frecuencia')\n",
        "            plt.show()\n",
        "\n",
        "            # Devolver estadísticas\n",
        "            return {\n",
        "                'Media': mean,\n",
        "                'Mediana': median,\n",
        "                'Desviación Estándar': std,\n",
        "                'Percentil 25 (q25)': q25,\n",
        "                'Percentil 50 (q50)': q50,\n",
        "                'Percentil 75 (q75)': q75\n",
        "            }\n",
        "        else:\n",
        "            return f'La variable {variable_name} no existe en el conjunto de datos.'\n",
        "\n",
        "    def get_variable_names(self):\n",
        "        # Obtener los nombres de las variables disponibles en el DataFrame iris_data\n",
        "        return list(iris_data.columns)\n",
        "\n",
        "# Crear una instancia de la clase DataAnalyzer\n",
        "analyzer = DataAnalyzer()\n",
        "\n",
        "# Obtener los nombres de las variables disponibles\n",
        "variable_names = analyzer.get_variable_names()\n",
        "print(\"Variables disponibles:\", variable_names)\n",
        "\n",
        "# Calcular estadísticas básicas para una variable (por ejemplo, \"sepal_length\")\n",
        "variable_stats = analyzer.calculate_basic_stats(\"sepal_length\")\n",
        "print(variable_stats)\n"
      ],
      "metadata": {
        "colab": {
          "base_uri": "https://localhost:8080/",
          "height": 527
        },
        "id": "w47RtCf0fauR",
        "outputId": "ab0c68d7-7a64-48a0-8cc9-7da76908d95e"
      },
      "execution_count": 12,
      "outputs": [
        {
          "output_type": "stream",
          "name": "stdout",
          "text": [
            "Variables disponibles: ['sepal_length', 'sepal_width', 'petal_length', 'petal_width', 'species']\n"
          ]
        },
        {
          "output_type": "display_data",
          "data": {
            "text/plain": [
              "<Figure size 640x480 with 1 Axes>"
            ],
            "image/png": "[encoded data removed]"
          },
          "metadata": {}
        },
        {
          "output_type": "stream",
          "name": "stdout",
          "text": [
            "{'Media': 5.843333333333334, 'Mediana': 5.8, 'Desviación Estándar': 0.828066127977863, 'Percentil 25 (q25)': 5.1, 'Percentil 50 (q50)': 5.8, 'Percentil 75 (q75)': 6.4}\n"
          ]
        }
      ]
    }
  ]
}